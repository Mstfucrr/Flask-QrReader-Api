{
 "cells": [
  {
   "cell_type": "code",
   "execution_count": 2,
   "metadata": {},
   "outputs": [],
   "source": [
    "import numpy as np\n",
    "import cv2\n",
    "from pyzbar.pyzbar import decode "
   ]
  },
  {
   "cell_type": "code",
   "execution_count": 2,
   "metadata": {},
   "outputs": [
    {
     "name": "stdout",
     "output_type": "stream",
     "text": [
      "[Decoded(data=b'Jelatin', type='QRCODE', rect=Rect(left=1233, top=77, width=169, height=168), polygon=[Point(x=1233, y=77), Point(x=1233, y=245), Point(x=1402, y=245), Point(x=1402, y=77)], quality=1, orientation='UP')]\n"
     ]
    }
   ],
   "source": [
    "img = cv2.imread('qr3.png')\n",
    "code = decode(img)\n",
    "print(code)"
   ]
  },
  {
   "cell_type": "code",
   "execution_count": 5,
   "metadata": {},
   "outputs": [
    {
     "data": {
      "text/plain": [
       "True"
      ]
     },
     "execution_count": 5,
     "metadata": {},
     "output_type": "execute_result"
    }
   ],
   "source": [
    "cap = cv2.VideoCapture(0)\n",
    "cap.set(3,640)\n",
    "cap.set(4,480)\n"
   ]
  },
  {
   "cell_type": "code",
   "execution_count": 6,
   "metadata": {},
   "outputs": [
    {
     "name": "stdout",
     "output_type": "stream",
     "text": [
      "Cam şişe\n",
      "Cam şişe\n",
      "Cam şişe\n",
      "Cam şişe\n",
      "Cam şişe\n",
      "Cam şişe\n",
      "Cam şişe\n",
      "Cam şişe\n",
      "Cam şişe\n",
      "Cam şişe\n",
      "Cam şişe\n",
      "Cam şişe\n",
      "Cam şişe\n",
      "Cam şişe\n",
      "Cam şişe\n",
      "Cam şişe\n",
      "Cam şişe\n",
      "Cam şişe\n",
      "Cam şişe\n",
      "Cam şişe\n",
      "Cam şişe\n",
      "Cam şişe\n",
      "Cam şişe\n",
      "Cam şişe\n",
      "Cam şişe\n",
      "Cam şişe\n",
      "Cam şişe\n",
      "Cam şişe\n",
      "Cam şişe\n",
      "Cam şişe\n",
      "Cam şişe\n",
      "Cam şişe\n",
      "Cam şişe\n",
      "Cam şişe\n",
      "Cam şişe\n",
      "Cam şişe\n",
      "Cam şişe\n",
      "Cam şişe\n",
      "Cam şişe\n",
      "Cam şişe\n",
      "Cam şişe\n",
      "Cam şişe\n",
      "Cam şişe\n",
      "Cam şişe\n",
      "Cam şişe\n",
      "Cam şişe\n",
      "Cam şişe\n",
      "Cam şişe\n",
      "Cam şişe\n",
      "Cam şişe\n",
      "Cam şişe\n",
      "Cam şişe\n",
      "Cam şişe\n",
      "Cam şişe\n",
      "Cam şişe\n",
      "Cam şişe\n",
      "Cam şişe\n",
      "Cam şişe\n",
      "Cam şişe\n",
      "Cam şişe\n",
      "Cam şişe\n",
      "Cam şişe\n",
      "Cam şişe\n",
      "Cam şişe\n",
      "Cam şişe\n",
      "Cam şişe\n",
      "Cam şişe\n",
      "Cam şişe\n",
      "Cam şişe\n",
      "Cam şişe\n",
      "Cam şişe\n",
      "Cam şişe\n",
      "Cam şişe\n",
      "Cam şişe\n"
     ]
    },
    {
     "ename": "KeyboardInterrupt",
     "evalue": "",
     "output_type": "error",
     "traceback": [
      "\u001b[1;31m---------------------------------------------------------------------------\u001b[0m",
      "\u001b[1;31mKeyboardInterrupt\u001b[0m                         Traceback (most recent call last)",
      "\u001b[1;32md:\\programlar\\YAZILIM\\VS_Code_projeler\\Python\\Numpy\\qr1.ipynb Hücre 4\u001b[0m in \u001b[0;36m<cell line: 1>\u001b[1;34m()\u001b[0m\n\u001b[0;32m      <a href='vscode-notebook-cell:/d%3A/programlar/YAZILIM/VS_Code_projeler/Python/Numpy/qr1.ipynb#W2sZmlsZQ%3D%3D?line=1'>2</a>\u001b[0m cap\u001b[39m.\u001b[39mset(cv2\u001b[39m.\u001b[39mCAP_PROP_POS_FRAMES,frame_idx)\n\u001b[0;32m      <a href='vscode-notebook-cell:/d%3A/programlar/YAZILIM/VS_Code_projeler/Python/Numpy/qr1.ipynb#W2sZmlsZQ%3D%3D?line=2'>3</a>\u001b[0m success, img \u001b[39m=\u001b[39m cap\u001b[39m.\u001b[39mread()\n\u001b[1;32m----> <a href='vscode-notebook-cell:/d%3A/programlar/YAZILIM/VS_Code_projeler/Python/Numpy/qr1.ipynb#W2sZmlsZQ%3D%3D?line=3'>4</a>\u001b[0m \u001b[39mfor\u001b[39;00m barcode \u001b[39min\u001b[39;00m decode(img):\n\u001b[0;32m      <a href='vscode-notebook-cell:/d%3A/programlar/YAZILIM/VS_Code_projeler/Python/Numpy/qr1.ipynb#W2sZmlsZQ%3D%3D?line=4'>5</a>\u001b[0m     mydata \u001b[39m=\u001b[39m barcode\u001b[39m.\u001b[39mdata\u001b[39m.\u001b[39mdecode(\u001b[39m'\u001b[39m\u001b[39mutf-8\u001b[39m\u001b[39m'\u001b[39m)\n\u001b[0;32m      <a href='vscode-notebook-cell:/d%3A/programlar/YAZILIM/VS_Code_projeler/Python/Numpy/qr1.ipynb#W2sZmlsZQ%3D%3D?line=5'>6</a>\u001b[0m     \u001b[39mprint\u001b[39m(mydata)\n",
      "File \u001b[1;32mc:\\Users\\Mustafa\\AppData\\Local\\Programs\\Python\\Python310\\lib\\site-packages\\pyzbar\\pyzbar.py:230\u001b[0m, in \u001b[0;36mdecode\u001b[1;34m(image, symbols)\u001b[0m\n\u001b[0;32m    228\u001b[0m zbar_image_set_size(img, width, height)\n\u001b[0;32m    229\u001b[0m zbar_image_set_data(img, cast(pixels, c_void_p), \u001b[39mlen\u001b[39m(pixels), \u001b[39mNone\u001b[39;00m)\n\u001b[1;32m--> 230\u001b[0m decoded \u001b[39m=\u001b[39m zbar_scan_image(scanner, img)\n\u001b[0;32m    231\u001b[0m \u001b[39mif\u001b[39;00m decoded \u001b[39m<\u001b[39m \u001b[39m0\u001b[39m:\n\u001b[0;32m    232\u001b[0m     \u001b[39mraise\u001b[39;00m PyZbarError(\u001b[39m'\u001b[39m\u001b[39mUnsupported image format\u001b[39m\u001b[39m'\u001b[39m)\n",
      "\u001b[1;31mKeyboardInterrupt\u001b[0m: "
     ]
    },
    {
     "ename": "",
     "evalue": "",
     "output_type": "error",
     "traceback": [
      "\u001b[1;31mGeçerli hücrede veya önceki bir hücrede kod yürütülürken Çekirdek kilitlendi. Hatanın olası nedenini belirlemek için lütfen hücrelerdeki kodu gözden geçirin. Daha fazla bilgi için <a href='https://aka.ms/vscodeJupyterKernelCrash'>buraya</a> tıklayın. Daha fazla ayrıntı için Jupyter <a href='command:jupyter.viewOutput'>günlüğünü</a> görüntüleyin."
     ]
    }
   ],
   "source": [
    "while cap.isOpened():\n",
    "    success, img = cap.read()\n",
    "    for barcode in decode(img):\n",
    "        mydata = barcode.data.decode('utf-8')\n",
    "        print(mydata)\n",
    "        pts = np.array([barcode.polygon],np.int32)\n",
    "        pts = pts.reshape((-1,1,2))\n",
    "        cv2.polylines(img,[pts],True,(255,0,255),5)\n",
    "    \n",
    "    cv2.imshow('Result', img)\n",
    "    cv2.waitKey(1)"
   ]
  }
 ],
 "metadata": {
  "kernelspec": {
   "display_name": "Python 3.10.1 64-bit",
   "language": "python",
   "name": "python3"
  },
  "language_info": {
   "codemirror_mode": {
    "name": "ipython",
    "version": 3
   },
   "file_extension": ".py",
   "mimetype": "text/x-python",
   "name": "python",
   "nbconvert_exporter": "python",
   "pygments_lexer": "ipython3",
   "version": "3.10.1"
  },
  "orig_nbformat": 4,
  "vscode": {
   "interpreter": {
    "hash": "2a0cb88269329d791c335c0a7fcdeec1dcd0280816f9967dd2197fb9886236a6"
   }
  }
 },
 "nbformat": 4,
 "nbformat_minor": 2
}
